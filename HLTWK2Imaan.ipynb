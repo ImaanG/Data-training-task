{
 "cells": [
  {
   "cell_type": "code",
   "execution_count": 56,
   "source": [
    "print(\"welcome to the resturant\")\r\n",
    "starter = input(\"Enter your starter option\")\r\n",
    "main = input(\"Enter your main course option\")\r\n",
    "dessert = input(\"Enter your dessert option\")\r\n",
    "drink = input(\"Enter your drink option\")\r\n",
    "print(\"You have selected the following meal\",starter,\",\",main,\",\",dessert,\"with a glass of\", drink)"
   ],
   "outputs": [
    {
     "output_type": "stream",
     "name": "stdout",
     "text": [
      "welcome to the resturant\n",
      "You have selected the following meal crackers , pasta , cheesecake with a glass of cola\n"
     ]
    }
   ],
   "metadata": {}
  },
  {
   "cell_type": "code",
   "execution_count": 50,
   "source": [
    "def motorbikeValue():\r\n",
    "    i = 1\r\n",
    "    percentageOff= (10/100)* 2000\r\n",
    "    motorbike = 2000 - percentageOff\r\n",
    "    while motorbike >=1000:\r\n",
    "        print( \"Year\", i, \"the value of motorbike is\", motorbike)\r\n",
    "        motorbike = motorbike - percentageOff\r\n",
    "        i+=1\r\n",
    "    return print \r\n",
    "\r\n",
    "message = motorbikeValue()\r\n",
    "print(message)\r\n"
   ],
   "outputs": [
    {
     "output_type": "stream",
     "name": "stdout",
     "text": [
      "Year 1 the value of motorbike is 1800.0\n",
      "Year 2 the value of motorbike is 1600.0\n",
      "Year 3 the value of motorbike is 1400.0\n",
      "Year 4 the value of motorbike is 1200.0\n",
      "Year 5 the value of motorbike is 1000.0\n",
      "<built-in function print>\n"
     ]
    }
   ],
   "metadata": {}
  },
  {
   "cell_type": "code",
   "execution_count": 49,
   "source": [
    "\r\n",
    "def add(x, y):\r\n",
    "    return x + y\r\n",
    "\r\n",
    "\r\n",
    "def subtract(x, y):\r\n",
    "    return x - y\r\n",
    "\r\n",
    "\r\n",
    "def multiply(x, y):\r\n",
    "    return x * y\r\n",
    "\r\n",
    "\r\n",
    "def divide(x, y):\r\n",
    "    return x / y\r\n",
    "\r\n",
    "\r\n",
    "print(\"Select operation.\")\r\n",
    "print(\"a.Add\")\r\n",
    "print(\"b.Subtract\")\r\n",
    "print(\"c.Multiply\")\r\n",
    "print(\"d.Divide\")\r\n",
    "\r\n",
    "while True:\r\n",
    "    \r\n",
    "    choice = input(\"Enter choice a/b/c/d: \")\r\n",
    "\r\n",
    "    if choice == \"a\" or choice == \"b\" or choice == \"c\" or choice == \"d\":\r\n",
    "        num1 = int(input(\"Enter first number: \"))\r\n",
    "        num2 = int(input(\"Enter second number: \"))\r\n",
    "\r\n",
    "        if choice == 'a':\r\n",
    "            print(num1, \"+\", num2, \"=\", add(num1, num2))\r\n",
    "\r\n",
    "        elif choice == 'b':\r\n",
    "            print(num1, \"-\", num2, \"=\", subtract(num1, num2))\r\n",
    "\r\n",
    "        elif choice == 'c':\r\n",
    "            print(num1, \"*\", num2, \"=\", multiply(num1, num2))\r\n",
    "\r\n",
    "        elif choice == 'd':\r\n",
    "            print(num1, \"/\", num2, \"=\", divide(num1, num2))\r\n",
    "        \r\n",
    "        next_calculation = input(\"Let's do next calculation? (yes/no): \")\r\n",
    "        if next_calculation == \"no\":\r\n",
    "          break\r\n",
    "    \r\n",
    "    else:\r\n",
    "        print(\"Invalid Input\")\r\n"
   ],
   "outputs": [
    {
     "output_type": "stream",
     "name": "stdout",
     "text": [
      "Select operation.\n",
      "a.Add\n",
      "b.Subtract\n",
      "c.Multiply\n",
      "d.Divide\n",
      "Invalid Input\n",
      "Invalid Input\n",
      "Invalid Input\n",
      "Invalid Input\n",
      "Invalid Input\n",
      "Invalid Input\n",
      "Invalid Input\n",
      "Invalid Input\n",
      "4 / 5 = 0.8\n"
     ]
    }
   ],
   "metadata": {}
  }
 ],
 "metadata": {
  "orig_nbformat": 4,
  "language_info": {
   "name": "python",
   "version": "3.7.3",
   "mimetype": "text/x-python",
   "codemirror_mode": {
    "name": "ipython",
    "version": 3
   },
   "pygments_lexer": "ipython3",
   "nbconvert_exporter": "python",
   "file_extension": ".py"
  },
  "kernelspec": {
   "name": "python3",
   "display_name": "Python 3.7.3 32-bit"
  },
  "interpreter": {
   "hash": "66335fc60129915268c95cfeb0641db20d9dd7b00eb314439e7fb902b42cadd5"
  }
 },
 "nbformat": 4,
 "nbformat_minor": 2
}