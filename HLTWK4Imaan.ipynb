{
 "cells": [
  {
   "cell_type": "code",
   "execution_count": 23,
   "metadata": {},
   "outputs": [
    {
     "data": {
      "text/plain": [
       "(15, 5)"
      ]
     },
     "execution_count": 23,
     "metadata": {},
     "output_type": "execute_result"
    }
   ],
   "source": [
    "import pandas as pd\n",
    "\n",
    "holidayData = pd.read_csv(\"Holiday_Destination.csv\")\n",
    "holidayData.shape"
   ]
  },
  {
   "cell_type": "code",
   "execution_count": 5,
   "metadata": {},
   "outputs": [
    {
     "name": "stdout",
     "output_type": "stream",
     "text": [
      "  Destinations  Feedback score  Average hotel star rating  \\\n",
      "3  Netherlands               9                          4   \n",
      "4      Denmark               7                          3   \n",
      "5    Thailand                8                          2   \n",
      "6      Morroco               9                          4   \n",
      "7       Egypt                5                          3   \n",
      "8      Iceland               8                          3   \n",
      "\n",
      "   All inclusive hotels Most visited city  \n",
      "3                     8         Rotterdam  \n",
      "4                    12        Copenhagen  \n",
      "5                    40           Bangkok  \n",
      "6                    30        Marrakesh   \n",
      "7                    45             Cairo  \n",
      "8                     9         Reykjavík  \n"
     ]
    }
   ],
   "source": [
    "print(holidayData[3:9])"
   ]
  },
  {
   "cell_type": "code",
   "execution_count": 25,
   "metadata": {},
   "outputs": [
    {
     "name": "stderr",
     "output_type": "stream",
     "text": [
      "C:\\Users\\Igood\\AppData\\Local\\Programs\\Python\\Python37-32\\lib\\site-packages\\ipykernel_launcher.py:1: FutureWarning: Dropping of nuisance columns in DataFrame reductions (with 'numeric_only=None') is deprecated; in a future version this will raise TypeError.  Select only valid columns before calling the reduction.\n",
      "  \"\"\"Entry point for launching an IPython kernel.\n"
     ]
    },
    {
     "data": {
      "text/plain": [
       "score                         7.600000\n",
       "Average hotel star rating     3.600000\n",
       "All inclusive hotels         20.866667\n",
       "dtype: float64"
      ]
     },
     "execution_count": 25,
     "metadata": {},
     "output_type": "execute_result"
    }
   ],
   "source": [
    "holidayData.mean()"
   ]
  },
  {
   "cell_type": "code",
   "execution_count": 29,
   "metadata": {},
   "outputs": [
    {
     "data": {
      "text/plain": [
       "4"
      ]
     },
     "execution_count": 29,
     "metadata": {},
     "output_type": "execute_result"
    }
   ],
   "source": [
    "holidayData[\"score\"].min()\n"
   ]
  },
  {
   "cell_type": "code",
   "execution_count": 30,
   "metadata": {},
   "outputs": [
    {
     "data": {
      "text/plain": [
       "10"
      ]
     },
     "execution_count": 30,
     "metadata": {},
     "output_type": "execute_result"
    }
   ],
   "source": [
    "holidayData[\"score\"].max()"
   ]
  },
  {
   "cell_type": "code",
   "execution_count": 106,
   "metadata": {},
   "outputs": [
    {
     "data": {
      "text/html": [
       "<div>\n",
       "<style scoped>\n",
       "    .dataframe tbody tr th:only-of-type {\n",
       "        vertical-align: middle;\n",
       "    }\n",
       "\n",
       "    .dataframe tbody tr th {\n",
       "        vertical-align: top;\n",
       "    }\n",
       "\n",
       "    .dataframe thead th {\n",
       "        text-align: right;\n",
       "    }\n",
       "</style>\n",
       "<table border=\"1\" class=\"dataframe\">\n",
       "  <thead>\n",
       "    <tr style=\"text-align: right;\">\n",
       "      <th></th>\n",
       "      <th>Destinations</th>\n",
       "      <th>score</th>\n",
       "      <th>Average hotel star rating</th>\n",
       "      <th>All inclusive hotels</th>\n",
       "      <th>Most visited city</th>\n",
       "    </tr>\n",
       "  </thead>\n",
       "  <tbody>\n",
       "    <tr>\n",
       "      <th>0</th>\n",
       "      <td>UK</td>\n",
       "      <td>9</td>\n",
       "      <td>2</td>\n",
       "      <td>15</td>\n",
       "      <td>London</td>\n",
       "    </tr>\n",
       "    <tr>\n",
       "      <th>1</th>\n",
       "      <td>UAE</td>\n",
       "      <td>10</td>\n",
       "      <td>5</td>\n",
       "      <td>30</td>\n",
       "      <td>Abu Dhabi</td>\n",
       "    </tr>\n",
       "    <tr>\n",
       "      <th>2</th>\n",
       "      <td>USA</td>\n",
       "      <td>6</td>\n",
       "      <td>3</td>\n",
       "      <td>25</td>\n",
       "      <td>New York</td>\n",
       "    </tr>\n",
       "    <tr>\n",
       "      <th>4</th>\n",
       "      <td>Denmark</td>\n",
       "      <td>7</td>\n",
       "      <td>3</td>\n",
       "      <td>12</td>\n",
       "      <td>Copenhagen</td>\n",
       "    </tr>\n",
       "    <tr>\n",
       "      <th>5</th>\n",
       "      <td>Thailand</td>\n",
       "      <td>8</td>\n",
       "      <td>2</td>\n",
       "      <td>40</td>\n",
       "      <td>Bangkok</td>\n",
       "    </tr>\n",
       "    <tr>\n",
       "      <th>6</th>\n",
       "      <td>Morroco</td>\n",
       "      <td>9</td>\n",
       "      <td>4</td>\n",
       "      <td>30</td>\n",
       "      <td>Marrakesh</td>\n",
       "    </tr>\n",
       "    <tr>\n",
       "      <th>7</th>\n",
       "      <td>Egypt</td>\n",
       "      <td>5</td>\n",
       "      <td>3</td>\n",
       "      <td>45</td>\n",
       "      <td>Cairo</td>\n",
       "    </tr>\n",
       "    <tr>\n",
       "      <th>8</th>\n",
       "      <td>Iceland</td>\n",
       "      <td>8</td>\n",
       "      <td>3</td>\n",
       "      <td>9</td>\n",
       "      <td>Reykjavík</td>\n",
       "    </tr>\n",
       "    <tr>\n",
       "      <th>11</th>\n",
       "      <td>Sweden</td>\n",
       "      <td>7</td>\n",
       "      <td>4</td>\n",
       "      <td>9</td>\n",
       "      <td>Stockholm</td>\n",
       "    </tr>\n",
       "    <tr>\n",
       "      <th>12</th>\n",
       "      <td>Switzerland</td>\n",
       "      <td>8</td>\n",
       "      <td>4</td>\n",
       "      <td>20</td>\n",
       "      <td>Bern</td>\n",
       "    </tr>\n",
       "    <tr>\n",
       "      <th>13</th>\n",
       "      <td>Bahamas</td>\n",
       "      <td>9</td>\n",
       "      <td>5</td>\n",
       "      <td>35</td>\n",
       "      <td>Nassau</td>\n",
       "    </tr>\n",
       "    <tr>\n",
       "      <th>14</th>\n",
       "      <td>Japan</td>\n",
       "      <td>10</td>\n",
       "      <td>5</td>\n",
       "      <td>20</td>\n",
       "      <td>Tokoyo</td>\n",
       "    </tr>\n",
       "  </tbody>\n",
       "</table>\n",
       "</div>"
      ],
      "text/plain": [
       "    Destinations  score  Average hotel star rating  All inclusive hotels  \\\n",
       "0             UK      9                          2                    15   \n",
       "1            UAE     10                          5                    30   \n",
       "2            USA      6                          3                    25   \n",
       "4        Denmark      7                          3                    12   \n",
       "5      Thailand       8                          2                    40   \n",
       "6        Morroco      9                          4                    30   \n",
       "7         Egypt       5                          3                    45   \n",
       "8        Iceland      8                          3                     9   \n",
       "11        Sweden      7                          4                     9   \n",
       "12  Switzerland       8                          4                    20   \n",
       "13       Bahamas      9                          5                    35   \n",
       "14         Japan     10                          5                    20   \n",
       "\n",
       "   Most visited city  \n",
       "0             London  \n",
       "1          Abu Dhabi  \n",
       "2           New York  \n",
       "4         Copenhagen  \n",
       "5            Bangkok  \n",
       "6         Marrakesh   \n",
       "7              Cairo  \n",
       "8          Reykjavík  \n",
       "11         Stockholm  \n",
       "12              Bern  \n",
       "13            Nassau  \n",
       "14            Tokoyo  "
      ]
     },
     "execution_count": 106,
     "metadata": {},
     "output_type": "execute_result"
    }
   ],
   "source": [
    "destinations = holidayData[\"All inclusive hotels\"] > 8\n",
    "destinations\n",
    "scoreData = holidayData[destinations]\n",
    "scoreData.head(15)\n",
    "\n",
    "\n",
    "\n"
   ]
  },
  {
   "cell_type": "code",
   "execution_count": 109,
   "metadata": {},
   "outputs": [
    {
     "data": {
      "text/html": [
       "<div>\n",
       "<style scoped>\n",
       "    .dataframe tbody tr th:only-of-type {\n",
       "        vertical-align: middle;\n",
       "    }\n",
       "\n",
       "    .dataframe tbody tr th {\n",
       "        vertical-align: top;\n",
       "    }\n",
       "\n",
       "    .dataframe thead th {\n",
       "        text-align: right;\n",
       "    }\n",
       "</style>\n",
       "<table border=\"1\" class=\"dataframe\">\n",
       "  <thead>\n",
       "    <tr style=\"text-align: right;\">\n",
       "      <th></th>\n",
       "      <th>Destinations</th>\n",
       "      <th>score</th>\n",
       "      <th>Average hotel star rating</th>\n",
       "      <th>All inclusive hotels</th>\n",
       "      <th>Most visited city</th>\n",
       "    </tr>\n",
       "  </thead>\n",
       "  <tbody>\n",
       "    <tr>\n",
       "      <th>0</th>\n",
       "      <td>UK</td>\n",
       "      <td>9</td>\n",
       "      <td>2</td>\n",
       "      <td>15</td>\n",
       "      <td>London</td>\n",
       "    </tr>\n",
       "    <tr>\n",
       "      <th>1</th>\n",
       "      <td>UAE</td>\n",
       "      <td>10</td>\n",
       "      <td>5</td>\n",
       "      <td>30</td>\n",
       "      <td>Abu Dhabi</td>\n",
       "    </tr>\n",
       "    <tr>\n",
       "      <th>3</th>\n",
       "      <td>Netherlands</td>\n",
       "      <td>9</td>\n",
       "      <td>4</td>\n",
       "      <td>8</td>\n",
       "      <td>Rotterdam</td>\n",
       "    </tr>\n",
       "    <tr>\n",
       "      <th>6</th>\n",
       "      <td>Morroco</td>\n",
       "      <td>9</td>\n",
       "      <td>4</td>\n",
       "      <td>30</td>\n",
       "      <td>Marrakesh</td>\n",
       "    </tr>\n",
       "    <tr>\n",
       "      <th>13</th>\n",
       "      <td>Bahamas</td>\n",
       "      <td>9</td>\n",
       "      <td>5</td>\n",
       "      <td>35</td>\n",
       "      <td>Nassau</td>\n",
       "    </tr>\n",
       "    <tr>\n",
       "      <th>14</th>\n",
       "      <td>Japan</td>\n",
       "      <td>10</td>\n",
       "      <td>5</td>\n",
       "      <td>20</td>\n",
       "      <td>Tokoyo</td>\n",
       "    </tr>\n",
       "  </tbody>\n",
       "</table>\n",
       "</div>"
      ],
      "text/plain": [
       "   Destinations  score  Average hotel star rating  All inclusive hotels  \\\n",
       "0            UK      9                          2                    15   \n",
       "1           UAE     10                          5                    30   \n",
       "3   Netherlands      9                          4                     8   \n",
       "6       Morroco      9                          4                    30   \n",
       "13      Bahamas      9                          5                    35   \n",
       "14        Japan     10                          5                    20   \n",
       "\n",
       "   Most visited city  \n",
       "0             London  \n",
       "1          Abu Dhabi  \n",
       "3          Rotterdam  \n",
       "6         Marrakesh   \n",
       "13            Nassau  \n",
       "14            Tokoyo  "
      ]
     },
     "execution_count": 109,
     "metadata": {},
     "output_type": "execute_result"
    }
   ],
   "source": [
    "highScore = holidayData[\"score\"] > 8\n",
    "highScore \n",
    "scores = holidayData[highScore]\n",
    "scores.head(15)\n"
   ]
  },
  {
   "cell_type": "code",
   "execution_count": 127,
   "metadata": {},
   "outputs": [
    {
     "data": {
      "text/html": [
       "<div>\n",
       "<style scoped>\n",
       "    .dataframe tbody tr th:only-of-type {\n",
       "        vertical-align: middle;\n",
       "    }\n",
       "\n",
       "    .dataframe tbody tr th {\n",
       "        vertical-align: top;\n",
       "    }\n",
       "\n",
       "    .dataframe thead th {\n",
       "        text-align: right;\n",
       "    }\n",
       "</style>\n",
       "<table border=\"1\" class=\"dataframe\">\n",
       "  <thead>\n",
       "    <tr style=\"text-align: right;\">\n",
       "      <th></th>\n",
       "      <th>Destinations</th>\n",
       "      <th>score</th>\n",
       "      <th>Average hotel star rating</th>\n",
       "      <th>All inclusive hotels</th>\n",
       "      <th>Most visited city</th>\n",
       "    </tr>\n",
       "  </thead>\n",
       "  <tbody>\n",
       "  </tbody>\n",
       "</table>\n",
       "</div>"
      ],
      "text/plain": [
       "Empty DataFrame\n",
       "Columns: [Destinations, score, Average hotel star rating, All inclusive hotels, Most visited city]\n",
       "Index: []"
      ]
     },
     "execution_count": 127,
     "metadata": {},
     "output_type": "execute_result"
    }
   ],
   "source": [
    "lowScore = holidayData[\"score\"] < 1\n",
    "lowScore \n",
    "belowTwo = holidayData[lowScore]\n",
    "belowTwo.head(15)\n",
    "# i can't find the mistakes for this code, i had to edit my data to include 1 score but still don't see the result"
   ]
  }
 ],
 "metadata": {
  "interpreter": {
   "hash": "66335fc60129915268c95cfeb0641db20d9dd7b00eb314439e7fb902b42cadd5"
  },
  "kernelspec": {
   "display_name": "Python 3.7.3 32-bit",
   "name": "python3"
  },
  "language_info": {
   "codemirror_mode": {
    "name": "ipython",
    "version": 3
   },
   "file_extension": ".py",
   "mimetype": "text/x-python",
   "name": "python",
   "nbconvert_exporter": "python",
   "pygments_lexer": "ipython3",
   "version": "3.7.3"
  },
  "orig_nbformat": 4
 },
 "nbformat": 4,
 "nbformat_minor": 2
}
