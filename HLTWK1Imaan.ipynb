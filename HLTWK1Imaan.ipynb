{
 "cells": [
  {
   "cell_type": "code",
   "execution_count": 1,
   "source": [
    "import random\r\n",
    "name= input(\"Enter your name\")\r\n",
    "number= int(input(\"Guess a number between 1 and 10\"))\r\n",
    "randomNumber= random.randint(1,10)\r\n",
    "if number == randomNumber:\r\n",
    "    print(\"Your guess is correct\")\r\n",
    "else:\r\n",
    "    print(\"Your guess is incorrect\")"
   ],
   "outputs": [
    {
     "output_type": "stream",
     "name": "stdout",
     "text": [
      "Your guess is incorrect\n"
     ]
    }
   ],
   "metadata": {}
  },
  {
   "cell_type": "code",
   "execution_count": 5,
   "source": [
    "favouriteNumber= int(input(\"Enter your favourite number between 1 and 100\"))\r\n",
    "if favouriteNumber == 1:\r\n",
    "    print(\"There are only 10 kinds of people in this world: those who know binary and those who don’t.\")\r\n",
    "elif favouriteNumber == 65:\r\n",
    "    print(\"Never trust atoms; they make up everything.\")\r\n",
    "elif favouriteNumber == 99:\r\n",
    "    print(\"Two wifi engineers got married. The reception was fantastic.\")\r\n",
    "else:\r\n",
    "    print(\"This number does not get a joke\")"
   ],
   "outputs": [
    {
     "output_type": "stream",
     "name": "stdout",
     "text": [
      "This number does not get a joke\n"
     ]
    }
   ],
   "metadata": {}
  },
  {
   "cell_type": "code",
   "execution_count": 9,
   "source": [
    "starter = input(\"Enter your favourite starter\")\r\n",
    "main = input(\"Enter your favourite main course\")\r\n",
    "dessert = input(\"Enter your favourite dessert\")\r\n",
    "drink = input(\"Enter your favourite drink\")\r\n",
    "print(\"Your favourite meal is\",starter,\",\",main,\",\",dessert,\"with a glass of\", drink)"
   ],
   "outputs": [
    {
     "output_type": "stream",
     "name": "stdout",
     "text": [
      "Your favourite meal is sweet , cake , sweet with a glass of settt\n"
     ]
    }
   ],
   "metadata": {}
  },
  {
   "cell_type": "code",
   "execution_count": 44,
   "source": [
    "i = 0\r\n",
    "percentageOff= (10/100)* 2000\r\n",
    "motorbike = 2000 - percentageOff\r\n",
    "while motorbike >=1000:\r\n",
    "    print( \"Year\", i, \"Value of motorbike =\", motorbike)\r\n",
    "    motorbike = motorbike - percentageOff\r\n",
    "    i+=1\r\n"
   ],
   "outputs": [
    {
     "output_type": "stream",
     "name": "stdout",
     "text": [
      "Year 0 Value of motorbike = 1800.0\n",
      "Year 1 Value of motorbike = 1600.0\n",
      "Year 2 Value of motorbike = 1400.0\n",
      "Year 3 Value of motorbike = 1200.0\n",
      "Year 4 Value of motorbike = 1000.0\n"
     ]
    }
   ],
   "metadata": {}
  },
  {
   "cell_type": "markdown",
   "source": [],
   "metadata": {}
  },
  {
   "cell_type": "code",
   "execution_count": 51,
   "source": [
    "numberOne= int(input(\"Enter your first number\"))\r\n",
    "numberTwo= int(input(\"Enter your second number\"))\r\n",
    "choice = input(\" select a to add , b to subtract, c to divide, d to multiply, e to square root your 2 numbers\")\r\n",
    "\r\n",
    "if choice == \"a\":\r\n",
    "    print(numberOne + numberTwo)\r\n",
    "elif choice == \"b\":\r\n",
    "    print(numberOne - numberTwo)\r\n",
    "elif choice == \"c\":\r\n",
    "    print(numberOne / numberTwo)\r\n",
    "elif choice == \"d\":\r\n",
    "    print(numberOne * numberTwo)\r\n",
    "elif choice == \"e\":\r\n",
    "    print(numberOne ** numberTwo)\r\n",
    "else:\r\n",
    "    print(\"You did not choose one of the letter avialble to complete your calculation\")"
   ],
   "outputs": [
    {
     "output_type": "stream",
     "name": "stdout",
     "text": [
      "15625\n"
     ]
    }
   ],
   "metadata": {}
  }
 ],
 "metadata": {
  "orig_nbformat": 4,
  "language_info": {
   "name": "python",
   "version": "3.7.3",
   "mimetype": "text/x-python",
   "codemirror_mode": {
    "name": "ipython",
    "version": 3
   },
   "pygments_lexer": "ipython3",
   "nbconvert_exporter": "python",
   "file_extension": ".py"
  },
  "kernelspec": {
   "name": "python3",
   "display_name": "Python 3.7.3 32-bit"
  },
  "interpreter": {
   "hash": "66335fc60129915268c95cfeb0641db20d9dd7b00eb314439e7fb902b42cadd5"
  }
 },
 "nbformat": 4,
 "nbformat_minor": 2
}